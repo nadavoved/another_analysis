{
 "cells": [
  {
   "cell_type": "markdown",
   "id": "57f7ec2f",
   "metadata": {},
   "source": [
    "### Base visualizations for presentation:\n",
    " \n",
    "    \n",
    "I would include in my explanatory analysis the following:\n",
    "___\n",
    "- <mark> vis #15 - mean flight speed, as this metric is an essential piece of infomation about flights that was not originally included in the dataset.</mark> \n",
    "- <mark> vis #12 - Distribution of flight distance. This vis combined with the speed visualization could comprehensively describe flight air time metric.</mark>\n",
    "-vis #10 - Airtime vs Distance, would add this to the same dashboard with speed and distribution of distance.\n",
    "___\n",
    "- vis #11 - mean ground time, beacause it is a useful metirc in observing how much time of a given flight is actually spent within airports. This data is as well is not given in the dataset, but I find it interesting to present, as it can offer a different perpective to look on each carrier's performance.\n",
    "- vis #6 - avg. air times by unique carrier, should present on the same dashboard with avg. ground time, in order to show two sides of the flight process.\n",
    "___\n",
    "- vis #4 - yearly flight counts by carrier, and will be presented along with total yearly delay by carrier, in order to illustrate a potential impact. \n",
    "\n"
   ]
  },
  {
   "cell_type": "code",
   "execution_count": 4,
   "id": "6f557bf3",
   "metadata": {},
   "outputs": [],
   "source": [
    "from load import get_years\n",
    "import numpy as np\n",
    "import pandas as pd\n",
    "from matplotlib import pyplot as plt, patches\n",
    "import seaborn as sns\n",
    "import warnings\n",
    "from math import floor, ceil\n",
    "warnings.simplefilter(action='ignore', category=FutureWarning)\n",
    "%matplotlib inline"
   ]
  },
  {
   "cell_type": "code",
   "execution_count": 5,
   "id": "c78ec5b2",
   "metadata": {},
   "outputs": [],
   "source": [
    "def drop_outliers(data, value_col, p=5, category_col=None):\n",
    "    \"\"\"Return DataFrame without overflow values.\"\"\"\n",
    "    def trunc(frame):  \n",
    "        top, bottom = np.nanpercentile(a=frame[value_col], q=[100 - p / 2, p / 2])\n",
    "        return frame[(frame[value_col] >= bottom) & (frame[value_col] <= top)].copy()\n",
    "    if category_col:\n",
    "        if data[category_col].dtype != 'category':\n",
    "            raise TypeError('Category_col dtype should be categorical.')\n",
    "        objs = [trunc(data[data[category_col] == item]) for item in data[category_col].cat.categories]\n",
    "        return pd.concat(objs, ignore_index=True)\n",
    "    else:\n",
    "        return trunc(data)"
   ]
  },
  {
   "cell_type": "code",
   "execution_count": 6,
   "id": "ad72c444",
   "metadata": {},
   "outputs": [
    {
     "ename": "KeyError",
     "evalue": "\"Only a column name can be used for the key in a dtype mappings argument. 'DayOfMonth' not found in columns.\"",
     "output_type": "error",
     "traceback": [
      "\u001b[1;31m---------------------------------------------------------------------------\u001b[0m",
      "\u001b[1;31mKeyError\u001b[0m                                  Traceback (most recent call last)",
      "Cell \u001b[1;32mIn[6], line 1\u001b[0m\n\u001b[1;32m----> 1\u001b[0m df \u001b[38;5;241m=\u001b[39m \u001b[43mget_years\u001b[49m\u001b[43m(\u001b[49m\u001b[43myear_range\u001b[49m\u001b[38;5;241;43m=\u001b[39;49m\u001b[43m(\u001b[49m\u001b[38;5;241;43m2000\u001b[39;49m\u001b[43m,\u001b[49m\u001b[43m \u001b[49m\u001b[38;5;241;43m2008\u001b[39;49m\u001b[43m)\u001b[49m\u001b[43m)\u001b[49m\n\u001b[0;32m      2\u001b[0m base_color \u001b[38;5;241m=\u001b[39m sns\u001b[38;5;241m.\u001b[39mcolor_palette()[\u001b[38;5;241m0\u001b[39m]\n",
      "File \u001b[1;32m~\\Documents\\ALL_PROJECTS\\flights_analysis\\load.py:85\u001b[0m, in \u001b[0;36mget_years\u001b[1;34m(year_range, sample_size, *args)\u001b[0m\n\u001b[0;32m     83\u001b[0m year_slice \u001b[38;5;241m=\u001b[39m [read_year(yr) \u001b[38;5;28;01mfor\u001b[39;00m yr \u001b[38;5;129;01min\u001b[39;00m rng]\n\u001b[0;32m     84\u001b[0m frame \u001b[38;5;241m=\u001b[39m pd\u001b[38;5;241m.\u001b[39mconcat(objs\u001b[38;5;241m=\u001b[39myear_slice, ignore_index\u001b[38;5;241m=\u001b[39m\u001b[38;5;28;01mTrue\u001b[39;00m)\n\u001b[1;32m---> 85\u001b[0m ordered_frame \u001b[38;5;241m=\u001b[39m \u001b[43mframe\u001b[49m\u001b[38;5;241;43m.\u001b[39;49m\u001b[43mastype\u001b[49m\u001b[43m(\u001b[49m\u001b[43mTO_CAT\u001b[49m\u001b[43m)\u001b[49m\n\u001b[0;32m     86\u001b[0m ordered_frame[\u001b[38;5;124m'\u001b[39m\u001b[38;5;124mroute\u001b[39m\u001b[38;5;124m'\u001b[39m] \u001b[38;5;241m=\u001b[39m (ordered_frame[\u001b[38;5;124m'\u001b[39m\u001b[38;5;124mOrigin\u001b[39m\u001b[38;5;124m'\u001b[39m]\u001b[38;5;241m.\u001b[39mastype(\u001b[38;5;124m'\u001b[39m\u001b[38;5;124mstr\u001b[39m\u001b[38;5;124m'\u001b[39m) \u001b[38;5;241m+\u001b[39m \u001b[38;5;124m'\u001b[39m\u001b[38;5;124m->\u001b[39m\u001b[38;5;124m'\u001b[39m \u001b[38;5;241m+\u001b[39m\n\u001b[0;32m     87\u001b[0m                           ordered_frame[\u001b[38;5;124m'\u001b[39m\u001b[38;5;124mDest\u001b[39m\u001b[38;5;124m'\u001b[39m]\u001b[38;5;241m.\u001b[39mastype(\u001b[38;5;124m'\u001b[39m\u001b[38;5;124mstr\u001b[39m\u001b[38;5;124m'\u001b[39m))\u001b[38;5;241m.\u001b[39mastype(\u001b[38;5;124m'\u001b[39m\u001b[38;5;124mcategory\u001b[39m\u001b[38;5;124m'\u001b[39m)\n\u001b[0;32m     88\u001b[0m \u001b[38;5;28;01mreturn\u001b[39;00m ordered_frame\n",
      "File \u001b[1;32m~\\Documents\\ALL_PROJECTS\\flights_analysis\\venv\\Lib\\site-packages\\pandas\\core\\generic.py:6212\u001b[0m, in \u001b[0;36mNDFrame.astype\u001b[1;34m(self, dtype, copy, errors)\u001b[0m\n\u001b[0;32m   6210\u001b[0m \u001b[38;5;28;01mfor\u001b[39;00m col_name \u001b[38;5;129;01min\u001b[39;00m dtype_ser\u001b[38;5;241m.\u001b[39mindex:\n\u001b[0;32m   6211\u001b[0m     \u001b[38;5;28;01mif\u001b[39;00m col_name \u001b[38;5;129;01mnot\u001b[39;00m \u001b[38;5;129;01min\u001b[39;00m \u001b[38;5;28mself\u001b[39m:\n\u001b[1;32m-> 6212\u001b[0m         \u001b[38;5;28;01mraise\u001b[39;00m \u001b[38;5;167;01mKeyError\u001b[39;00m(\n\u001b[0;32m   6213\u001b[0m             \u001b[38;5;124m\"\u001b[39m\u001b[38;5;124mOnly a column name can be used for the \u001b[39m\u001b[38;5;124m\"\u001b[39m\n\u001b[0;32m   6214\u001b[0m             \u001b[38;5;124m\"\u001b[39m\u001b[38;5;124mkey in a dtype mappings argument. \u001b[39m\u001b[38;5;124m\"\u001b[39m\n\u001b[0;32m   6215\u001b[0m             \u001b[38;5;124mf\u001b[39m\u001b[38;5;124m\"\u001b[39m\u001b[38;5;124m'\u001b[39m\u001b[38;5;132;01m{\u001b[39;00mcol_name\u001b[38;5;132;01m}\u001b[39;00m\u001b[38;5;124m'\u001b[39m\u001b[38;5;124m not found in columns.\u001b[39m\u001b[38;5;124m\"\u001b[39m\n\u001b[0;32m   6216\u001b[0m         )\n\u001b[0;32m   6218\u001b[0m dtype_ser \u001b[38;5;241m=\u001b[39m dtype_ser\u001b[38;5;241m.\u001b[39mreindex(\u001b[38;5;28mself\u001b[39m\u001b[38;5;241m.\u001b[39mcolumns, fill_value\u001b[38;5;241m=\u001b[39m\u001b[38;5;28;01mNone\u001b[39;00m, copy\u001b[38;5;241m=\u001b[39m\u001b[38;5;28;01mFalse\u001b[39;00m)\n\u001b[0;32m   6220\u001b[0m results \u001b[38;5;241m=\u001b[39m []\n",
      "\u001b[1;31mKeyError\u001b[0m: \"Only a column name can be used for the key in a dtype mappings argument. 'DayOfMonth' not found in columns.\""
     ]
    }
   ],
   "source": [
    "df = get_years(year_range=(2000, 2008))\n",
    "base_color = sns.color_palette()[0]"
   ]
  },
  {
   "cell_type": "markdown",
   "id": "36131b7b",
   "metadata": {},
   "source": [
    "# Vis 1 - Distribution Of Flight Speed And Distance "
   ]
  },
  {
   "cell_type": "code",
   "execution_count": null,
   "id": "45955436",
   "metadata": {},
   "outputs": [],
   "source": [
    "speed = pd.Series(df['Distance'] / df['AirTime'] * 60, \n",
    "                  name='speed', dtype='float64')\n",
    "bins = np.arange(0, df.Distance.max() + 1000, 1000)\n",
    "cat_distance=pd.cut(x=df.Distance, bins=bins)\n",
    "temp = pd.concat([cat_distance, speed], axis=1)\n",
    "speed_means = temp.groupby('Distance', as_index=False).mean()\n",
    "fig, ax = plt.subplots(figsize=(20,15))\n",
    "chart_data = pd.concat([df['Distance'], speed], axis=1)\n",
    "chart_data = drop_outliers(data=chart_data, value_col='speed')\n",
    "sns.histplot(data=chart_data,x='Distance', y='speed', cbar=True, ax=ax, label)\n",
    "ax.set_xlim(0)\n",
    "ymin = floor(chart_data.speed.min() / 100) * 100\n",
    "ymax = ceil(chart_data.speed.max() / 100) * 100\n",
    "ax.set_ylim(ymin, ymax)\n",
    "ax.set_xticks(bins)\n",
    "ax.set_title('Distribution Of Flight Speed \\n'\n",
    "             'And Distance With Speed Averages Per 1000KM', fontsize=30)\n",
    "ax.set_xlabel('Distance [km]', fontsize=25)\n",
    "ax.set_ylabel('Speed [km / h]', fontsize=25)\n",
    "for i in range(len(speed_means)):\n",
    "    interval = speed_means.loc[i, 'Distance']\n",
    "    mean = speed_means.loc[i, 'speed']\n",
    "    rec = patches.Rectangle(xy=(interval.left, ymin), \n",
    "                            width=interval.right - interval.left,\n",
    "                            height=mean - ymin, fc='none', ec='orange', lw=5)\n",
    "    ax.add_patch(rec)\n",
    "    annot_x = rec.get_x() + rec.get_width() / 4\n",
    "    annot_y = rec.get_y() + rec.get_height() / 2\n",
    "    ax.text(x=annot_x, y=annot_y, s='{:.2f}'.format(mean), fontsize=20, fontweight='bold')\n",
    "ax.tick_params(labelsize=20)\n",
    "cbar = ax.collections[0].colorbar\n",
    "cbar.ax.tick_params(labelsize=15)\n"
   ]
  },
  {
   "cell_type": "markdown",
   "id": "c4569569",
   "metadata": {},
   "source": [
    "# Vis 2"
   ]
  }
 ],
 "metadata": {
  "kernelspec": {
   "display_name": "Python 3 (ipykernel)",
   "language": "python",
   "name": "python3"
  },
  "language_info": {
   "codemirror_mode": {
    "name": "ipython",
    "version": 3
   },
   "file_extension": ".py",
   "mimetype": "text/x-python",
   "name": "python",
   "nbconvert_exporter": "python",
   "pygments_lexer": "ipython3",
   "version": "3.11.1"
  }
 },
 "nbformat": 4,
 "nbformat_minor": 5
}
